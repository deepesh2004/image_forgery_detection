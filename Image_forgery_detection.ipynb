{
 "cells": [
  {
   "cell_type": "code",
   "execution_count": 1,
   "id": "4d86eb81-2f75-4db4-9bf2-d41d7a13d70c",
   "metadata": {},
   "outputs": [],
   "source": [
    "import os\n",
    "\n",
    "# Paths to original and ELA images\n",
    "real_images_dir = r'C:\\Users\\HP\\OneDrive\\Documents\\dataset_iD\\CASIA2\\Au'\n",
    "tampered_images_dir = r'C:\\Users\\HP\\OneDrive\\Documents\\dataset_iD\\CASIA2\\Tp'\n",
    "ela_real_images_dir = r'C:\\Users\\HP\\OneDrive\\Documents\\dataset_iD\\CASIA2\\ELA\\Au'\n",
    "ela_tampered_images_dir = r'C:\\Users\\HP\\OneDrive\\Documents\\dataset_iD\\CASIA2\\ELA\\Tp'\n",
    "\n",
    "# Create directories if they don't exist\n",
    "os.makedirs(ela_real_images_dir, exist_ok=True)\n",
    "os.makedirs(ela_tampered_images_dir, exist_ok=True)\n"
   ]
  },
  {
   "cell_type": "code",
   "execution_count": 3,
   "id": "a6bda704-fb9b-4569-bb39-436184853999",
   "metadata": {},
   "outputs": [],
   "source": [
    "from PIL import Image, ImageChops, ImageEnhance\n",
    "\n",
    "def ela_image(path, quality=90):\n",
    "    original = Image.open(path)\n",
    "    resaved_path = path.split('.')[0] + '_resaved.jpg'\n",
    "    original.save(resaved_path, 'JPEG', quality=quality)\n",
    "    resaved = Image.open(resaved_path)\n",
    "    \n",
    "    ela_image = ImageChops.difference(original, resaved)\n",
    "    \n",
    "    extrema = ela_image.getextrema()\n",
    "    max_diff = max([ex[1] for ex in extrema])\n",
    "    \n",
    "    if max_diff == 0:\n",
    "        max_diff = 1  # Avoid division by zero\n",
    "    \n",
    "    scale = 255.0 / max_diff\n",
    "    \n",
    "    ela_image = ImageEnhance.Brightness(ela_image).enhance(scale)\n",
    "    \n",
    "    return ela_image\n"
   ]
  },
  {
   "cell_type": "code",
   "execution_count": 4,
   "id": "fd907c15-333d-4ecc-b472-21455bc1b99b",
   "metadata": {},
   "outputs": [],
   "source": [
    "def generate_ela_images(input_dir, output_dir, quality=90):\n",
    "    if not os.path.exists(output_dir):\n",
    "        os.makedirs(output_dir)\n",
    "    \n",
    "    for root, dirs, files in os.walk(input_dir):\n",
    "        for file in files:\n",
    "            if file.endswith('.jpg') or file.endswith('.png'):\n",
    "                path = os.path.join(root, file)\n",
    "                ela_img = ela_image(path, quality)\n",
    "                ela_output_path = os.path.join(output_dir, os.path.relpath(root, input_dir), file)\n",
    "                os.makedirs(os.path.dirname(ela_output_path), exist_ok=True)\n",
    "                ela_img.save(ela_output_path)\n",
    "\n",
    "# Generate ELA images for real and tampered datasets\n",
    "generate_ela_images(real_images_dir, ela_real_images_dir)\n",
    "generate_ela_images(tampered_images_dir, ela_tampered_images_dir)\n"
   ]
  },
  {
   "cell_type": "code",
   "execution_count": 5,
   "id": "fbff38df-dbb9-4620-90a1-baa81a955ab1",
   "metadata": {},
   "outputs": [
    {
     "name": "stdout",
     "output_type": "stream",
     "text": [
      "Found 15290 images belonging to 2 classes.\n",
      "Found 3821 images belonging to 2 classes.\n"
     ]
    }
   ],
   "source": [
    "from tensorflow.keras.preprocessing.image import ImageDataGenerator\n",
    "\n",
    "datagen = ImageDataGenerator(rescale=1./255, validation_split=0.2)\n",
    "\n",
    "train_generator = datagen.flow_from_directory(\n",
    "    r'C:\\Users\\HP\\OneDrive\\Documents\\dataset_iD\\CASIA2\\ELA',\n",
    "    target_size=(224, 224),\n",
    "    batch_size=32,\n",
    "    class_mode='binary',\n",
    "    subset='training'\n",
    ")\n",
    "\n",
    "validation_generator = datagen.flow_from_directory(\n",
    "    r'C:\\Users\\HP\\OneDrive\\Documents\\dataset_iD\\CASIA2\\ELA',\n",
    "    target_size=(224, 224),\n",
    "    batch_size=32,\n",
    "    class_mode='binary',\n",
    "    subset='validation'\n",
    ")\n"
   ]
  },
  {
   "cell_type": "code",
   "execution_count": 2,
   "id": "7aa0fc99-01e5-4f6b-84f2-dc91d23fae4b",
   "metadata": {},
   "outputs": [],
   "source": [
    "import os\n",
    "import shutil\n",
    "import random\n",
    "\n",
    "# Define source and destination directories\n",
    "real_images_dir = r'C:\\Users\\HP\\OneDrive\\Documents\\dataset_iD\\CASIA2\\Au'\n",
    "tampered_images_dir = r'C:\\Users\\HP\\OneDrive\\Documents\\dataset_iD\\CASIA2\\Tp'\n",
    "subset_real_dir = r'C:\\Users\\HP\\OneDrive\\Documents\\dataset_iD\\CASIA2_Subset\\Au'\n",
    "subset_tampered_dir = r'C:\\Users\\HP\\OneDrive\\Documents\\dataset_iD\\CASIA2_Subset\\Tp'\n",
    "\n",
    "# Create directories if they don't exist\n",
    "os.makedirs(subset_real_dir, exist_ok=True)\n",
    "os.makedirs(subset_tampered_dir, exist_ok=True)\n"
   ]
  },
  {
   "cell_type": "code",
   "execution_count": 3,
   "id": "91899f45-8c77-4977-afe2-f4d4d0a37602",
   "metadata": {},
   "outputs": [],
   "source": [
    "def copy_subset(input_dir, output_dir, num_images):\n",
    "    all_files = [os.path.join(input_dir, f) for f in os.listdir(input_dir) if f.endswith('.jpg') or f.endswith('.png')]\n",
    "    subset_files = random.sample(all_files, num_images)\n",
    "    \n",
    "    for file in subset_files:\n",
    "        shutil.copy(file, output_dir)\n",
    "\n",
    "# Copy 1500 images from each directory\n",
    "copy_subset(real_images_dir, subset_real_dir, 1500)\n",
    "copy_subset(tampered_images_dir, subset_tampered_dir, 1500)\n"
   ]
  },
  {
   "cell_type": "code",
   "execution_count": 4,
   "id": "ac68cd94-535b-4243-bfcf-a5ae3ab55bb0",
   "metadata": {},
   "outputs": [],
   "source": [
    "ela_subset_real_dir = r'C:\\Users\\HP\\OneDrive\\Documents\\dataset_iD\\CASIA2_Subset\\ELA\\Au'\n",
    "ela_subset_tampered_dir = r'C:\\Users\\HP\\OneDrive\\Documents\\dataset_iD\\CASIA2_Subset\\ELA\\Tp'\n",
    "\n",
    "# Create directories if they don't exist\n",
    "os.makedirs(ela_subset_real_dir, exist_ok=True)\n",
    "os.makedirs(ela_subset_tampered_dir, exist_ok=True)\n"
   ]
  },
  {
   "cell_type": "code",
   "execution_count": 5,
   "id": "14405a76-2852-44f0-bd46-238041a50410",
   "metadata": {},
   "outputs": [],
   "source": [
    "from PIL import Image, ImageChops, ImageEnhance\n",
    "\n",
    "def ela_image(path, quality=90):\n",
    "    original = Image.open(path)\n",
    "    resaved_path = path.split('.')[0] + '_resaved.jpg'\n",
    "    original.save(resaved_path, 'JPEG', quality=quality)\n",
    "    resaved = Image.open(resaved_path)\n",
    "    \n",
    "    ela_image = ImageChops.difference(original, resaved)\n",
    "    \n",
    "    extrema = ela_image.getextrema()\n",
    "    max_diff = max([ex[1] for ex in extrema])\n",
    "    \n",
    "    if max_diff == 0:\n",
    "        max_diff = 1  # Avoid division by zero\n",
    "    \n",
    "    scale = 255.0 / max_diff\n",
    "    \n",
    "    ela_image = ImageEnhance.Brightness(ela_image).enhance(scale)\n",
    "    \n",
    "    return ela_image\n"
   ]
  },
  {
   "cell_type": "code",
   "execution_count": 6,
   "id": "4db29ecc-b71a-4915-8ad8-36bd60a3cb78",
   "metadata": {},
   "outputs": [],
   "source": [
    "def generate_ela_images(input_dir, output_dir, quality=90):\n",
    "    if not os.path.exists(output_dir):\n",
    "        os.makedirs(output_dir)\n",
    "    \n",
    "    for root, dirs, files in os.walk(input_dir):\n",
    "        for file in files:\n",
    "            if file.endswith('.jpg') or file.endswith('.png'):\n",
    "                path = os.path.join(root, file)\n",
    "                ela_img = ela_image(path, quality)\n",
    "                ela_output_path = os.path.join(output_dir, os.path.relpath(root, input_dir), file)\n",
    "                os.makedirs(os.path.dirname(ela_output_path), exist_ok=True)\n",
    "                ela_img.save(ela_output_path)\n",
    "\n",
    "# Generate ELA images for the subset\n",
    "generate_ela_images(subset_real_dir, ela_subset_real_dir)\n",
    "generate_ela_images(subset_tampered_dir, ela_subset_tampered_dir)\n"
   ]
  },
  {
   "cell_type": "code",
   "execution_count": 7,
   "id": "ddb83937-3584-4e14-8321-8acbbc235147",
   "metadata": {},
   "outputs": [
    {
     "name": "stdout",
     "output_type": "stream",
     "text": [
      "Found 2400 images belonging to 2 classes.\n",
      "Found 600 images belonging to 2 classes.\n"
     ]
    }
   ],
   "source": [
    "from tensorflow.keras.preprocessing.image import ImageDataGenerator\n",
    "\n",
    "datagen = ImageDataGenerator(rescale=1./255, validation_split=0.2)\n",
    "\n",
    "train_generator = datagen.flow_from_directory(\n",
    "    r'C:\\Users\\HP\\OneDrive\\Documents\\dataset_iD\\CASIA2_Subset\\ELA',\n",
    "    target_size=(224, 224),\n",
    "    batch_size=32,\n",
    "    class_mode='binary',\n",
    "    subset='training'\n",
    ")\n",
    "\n",
    "validation_generator = datagen.flow_from_directory(\n",
    "    r'C:\\Users\\HP\\OneDrive\\Documents\\dataset_iD\\CASIA2_Subset\\ELA',\n",
    "    target_size=(224, 224),\n",
    "    batch_size=32,\n",
    "    class_mode='binary',\n",
    "    subset='validation'\n",
    ")\n"
   ]
  },
  {
   "cell_type": "code",
   "execution_count": 8,
   "id": "2a03c435-7c94-4042-b2cd-b75d55b9e579",
   "metadata": {},
   "outputs": [
    {
     "name": "stdout",
     "output_type": "stream",
     "text": [
      "Epoch 1/10\n",
      "75/75 [==============================] - 467s 6s/step - loss: 1.0370 - accuracy: 0.6996 - val_loss: 0.4292 - val_accuracy: 0.8133\n",
      "Epoch 2/10\n",
      "75/75 [==============================] - 446s 6s/step - loss: 0.4864 - accuracy: 0.7792 - val_loss: 0.4040 - val_accuracy: 0.8200\n",
      "Epoch 3/10\n",
      "75/75 [==============================] - 442s 6s/step - loss: 0.4724 - accuracy: 0.7925 - val_loss: 0.4774 - val_accuracy: 0.7800\n",
      "Epoch 4/10\n",
      "75/75 [==============================] - 473s 6s/step - loss: 0.4190 - accuracy: 0.8225 - val_loss: 0.4038 - val_accuracy: 0.8217\n",
      "Epoch 5/10\n",
      "75/75 [==============================] - 470s 6s/step - loss: 0.3620 - accuracy: 0.8492 - val_loss: 0.4018 - val_accuracy: 0.8150\n",
      "Epoch 6/10\n",
      "75/75 [==============================] - 452s 6s/step - loss: 0.3647 - accuracy: 0.8471 - val_loss: 0.3876 - val_accuracy: 0.8333\n",
      "Epoch 7/10\n",
      "75/75 [==============================] - 459s 6s/step - loss: 0.4040 - accuracy: 0.8254 - val_loss: 0.4014 - val_accuracy: 0.8150\n",
      "Epoch 8/10\n",
      "75/75 [==============================] - 773s 10s/step - loss: 0.2998 - accuracy: 0.8771 - val_loss: 0.4188 - val_accuracy: 0.8283\n",
      "Epoch 9/10\n",
      "75/75 [==============================] - 456s 6s/step - loss: 0.3096 - accuracy: 0.8796 - val_loss: 0.4241 - val_accuracy: 0.8167\n",
      "Epoch 10/10\n",
      "75/75 [==============================] - 453s 6s/step - loss: 0.3005 - accuracy: 0.8746 - val_loss: 0.4077 - val_accuracy: 0.8267\n"
     ]
    },
    {
     "data": {
      "text/plain": [
       "<keras.callbacks.History at 0x2c3ebec58a0>"
      ]
     },
     "execution_count": 8,
     "metadata": {},
     "output_type": "execute_result"
    }
   ],
   "source": [
    "from tensorflow.keras.applications import VGG19\n",
    "from tensorflow.keras.layers import Dense, Flatten\n",
    "from tensorflow.keras.models import Model\n",
    "from tensorflow.keras.optimizers import Adam\n",
    "\n",
    "# Load VGG19 model without the top classification layers\n",
    "base_model = VGG19(weights='imagenet', include_top=False, input_shape=(224, 224, 3))\n",
    "x = base_model.output\n",
    "x = Flatten()(x)\n",
    "x = Dense(1024, activation='relu')(x)\n",
    "predictions = Dense(1, activation='sigmoid')(x)\n",
    "\n",
    "model = Model(inputs=base_model.input, outputs=predictions)\n",
    "\n",
    "# Freeze the convolutional base\n",
    "for layer in base_model.layers:\n",
    "    layer.trainable = False\n",
    "\n",
    "# Compile the model\n",
    "model.compile(optimizer=Adam(), loss='binary_crossentropy', metrics=['accuracy'])\n",
    "\n",
    "# Train the model\n",
    "model.fit(train_generator, epochs=10, validation_data=validation_generator)\n"
   ]
  },
  {
   "cell_type": "code",
   "execution_count": 9,
   "id": "456851f1-b005-4d1e-a46d-fdc146a0636d",
   "metadata": {},
   "outputs": [
    {
     "name": "stdout",
     "output_type": "stream",
     "text": [
      "19/19 [==============================] - 94s 5s/step\n",
      "              precision    recall  f1-score   support\n",
      "\n",
      "           0       0.50      0.42      0.45       300\n",
      "           1       0.50      0.58      0.53       300\n",
      "\n",
      "    accuracy                           0.50       600\n",
      "   macro avg       0.50      0.50      0.49       600\n",
      "weighted avg       0.50      0.50      0.49       600\n",
      "\n",
      "ROC-AUC: 0.49573888888888895\n"
     ]
    }
   ],
   "source": [
    "validation_generator.reset()\n",
    "predictions = model.predict(validation_generator)\n",
    "y_pred = (predictions > 0.5).astype(int)\n",
    "y_true = validation_generator.classes\n",
    "\n",
    "from sklearn.metrics import classification_report, roc_auc_score\n",
    "print(classification_report(y_true, y_pred))\n",
    "print('ROC-AUC:', roc_auc_score(y_true, predictions))\n"
   ]
  },
  {
   "cell_type": "code",
   "execution_count": 13,
   "id": "0660d739-1811-46dc-8fca-7ca18a3d7839",
   "metadata": {},
   "outputs": [
    {
     "name": "stdout",
     "output_type": "stream",
     "text": [
      "Epoch 1/10\n",
      "75/75 [==============================] - 480s 6s/step - loss: 0.2818 - accuracy: 0.8867 - val_loss: 0.4066 - val_accuracy: 0.8333\n",
      "Epoch 2/10\n",
      "75/75 [==============================] - 987s 13s/step - loss: 0.2820 - accuracy: 0.8908 - val_loss: 0.3907 - val_accuracy: 0.8350\n",
      "Epoch 3/10\n",
      "75/75 [==============================] - 457s 6s/step - loss: 0.2260 - accuracy: 0.9133 - val_loss: 0.4136 - val_accuracy: 0.8300\n",
      "Epoch 4/10\n",
      "75/75 [==============================] - 466s 6s/step - loss: 0.2209 - accuracy: 0.9183 - val_loss: 0.4790 - val_accuracy: 0.8133\n",
      "Epoch 5/10\n",
      "75/75 [==============================] - 462s 6s/step - loss: 0.2029 - accuracy: 0.9179 - val_loss: 0.4214 - val_accuracy: 0.8300\n",
      "Epoch 6/10\n",
      "75/75 [==============================] - 502s 7s/step - loss: 0.1786 - accuracy: 0.9333 - val_loss: 0.7043 - val_accuracy: 0.7300\n",
      "Epoch 7/10\n",
      "75/75 [==============================] - 461s 6s/step - loss: 0.2439 - accuracy: 0.8979 - val_loss: 0.4435 - val_accuracy: 0.8167\n",
      "Epoch 8/10\n",
      "75/75 [==============================] - 455s 6s/step - loss: 0.2271 - accuracy: 0.9133 - val_loss: 0.4587 - val_accuracy: 0.8283\n",
      "Epoch 9/10\n",
      "75/75 [==============================] - 432s 6s/step - loss: 0.1687 - accuracy: 0.9350 - val_loss: 0.4418 - val_accuracy: 0.8317\n",
      "Epoch 10/10\n",
      "75/75 [==============================] - 466s 6s/step - loss: 0.1612 - accuracy: 0.9400 - val_loss: 0.6752 - val_accuracy: 0.7717\n"
     ]
    },
    {
     "data": {
      "image/png": "[encoded data removed]",
      "text/plain": [
       "<Figure size 1200x400 with 1 Axes>"
      ]
     },
     "metadata": {},
     "output_type": "display_data"
    }
   ],
   "source": [
    "history = model.fit(train_generator, epochs=10, validation_data=validation_generator)\n",
    "import matplotlib.pyplot as plt\n",
    "plt.figure(figsize=(12, 4))\n",
    "plt.subplot(1, 2, 1)\n",
    "plt.plot(history.history['accuracy'])\n",
    "plt.plot(history.history['val_accuracy'])\n",
    "plt.title('Model accuracy')\n",
    "plt.xlabel('Epoch')\n",
    "plt.ylabel('Accuracy')\n",
    "plt.legend(['Train', 'Validation'], loc='upper left')\n",
    "\n",
    "plt.show()\n"
   ]
  },
  {
   "cell_type": "code",
   "execution_count": null,
   "id": "1b597f37-82c0-4e4b-80c8-8a62aea3a660",
   "metadata": {},
   "outputs": [],
   "source": []
  }
 ],
 "metadata": {
  "kernelspec": {
   "display_name": "Python 3 (ipykernel)",
   "language": "python",
   "name": "python3"
  },
  "language_info": {
   "codemirror_mode": {
    "name": "ipython",
    "version": 3
   },
   "file_extension": ".py",
   "mimetype": "text/x-python",
   "name": "python",
   "nbconvert_exporter": "python",
   "pygments_lexer": "ipython3",
   "version": "3.10.13"
  }
 },
 "nbformat": 4,
 "nbformat_minor": 5
}
